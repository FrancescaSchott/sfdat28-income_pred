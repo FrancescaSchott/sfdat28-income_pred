{
 "cells": [
  {
   "cell_type": "code",
   "execution_count": 18,
   "metadata": {
    "collapsed": true
   },
   "outputs": [],
   "source": [
    "import pandas as pd\n",
    "from sklearn import datasets\n",
    "from sklearn.preprocessing import scale\n",
    "from sklearn.cross_validation import train_test_split\n",
    "import pickle\n",
    "from sklearn.neighbors import KNeighborsClassifier"
   ]
  },
  {
   "cell_type": "code",
   "execution_count": 19,
   "metadata": {
    "collapsed": false
   },
   "outputs": [],
   "source": [
    "resp = pd.read_csv('https://raw.githubusercontent.com/FrancescaSchott/sfdat28-schott/master/project/data/resp.csv')"
   ]
  },
  {
   "cell_type": "code",
   "execution_count": 20,
   "metadata": {
    "collapsed": false
   },
   "outputs": [],
   "source": [
    "features = resp[['exercise', 'food_amount', 'cat_occ', 'stores']]\n",
    "response = resp.income_lvl\n",
    "\n",
    "X_train, X_test, y_train, y_test = train_test_split(features, response, random_state=1)\n",
    "\n",
    "\n",
    "from sklearn.preprocessing import OneHotEncoder\n",
    "enc=OneHotEncoder(sparse=False)\n",
    "X_train_1 = X_train\n",
    "X_test_1 = X_test\n",
    "columns = ['exercise', 'food_amount', 'cat_occ', 'stores']\n",
    "\n",
    "for col in columns:\n",
    "        # creating an exhaustive list of all possible categorical values\n",
    "        data =X_train[[col]].append(X_test[[col]])\n",
    "        enc.fit(data)\n",
    "        # Fitting One Hot Encoding on train data\n",
    "        temp = enc.transform(X_train[[col]])\n",
    "        # Changing the encoded features into a data frame with new column names\n",
    "        temp=pd.DataFrame(temp, columns = [(col+\"_\"+str(i)) for i in data[col]\n",
    "            .value_counts().index])\n",
    "        # In side by side concatenation index values should be same\n",
    "        # Setting the index values similar to the X_train data frame\n",
    "        temp=temp.set_index(X_train.index.values)\n",
    "        # adding the new One Hot Encoded varibales to the train data frame\n",
    "        X_train_1=pd.concat([X_train_1,temp],axis=1)\n",
    "        # fitting One Hot Encoding on test data\n",
    "        temp = enc.transform(X_test[[col]])\n",
    "        # changing it into data frame and adding column names\n",
    "        temp=pd.DataFrame(temp, columns = [(col+\"_\"+str(i)) for i in data[col]\n",
    "            .value_counts().index])\n",
    "        # Setting the index for proper concatenation\n",
    "        temp=temp.set_index(X_test.index.values)\n",
    "        # adding the new One Hot Encoded varibales to test data frame\n",
    "        X_test_1=pd.concat([X_test_1,temp],axis=1)"
   ]
  },
  {
   "cell_type": "code",
   "execution_count": 21,
   "metadata": {
    "collapsed": false
   },
   "outputs": [],
   "source": [
    "X_train_scaled = scale(X_train_1)\n",
    "X_test_scaled = scale(X_test_1)"
   ]
  },
  {
   "cell_type": "code",
   "execution_count": 22,
   "metadata": {
    "collapsed": false
   },
   "outputs": [],
   "source": [
    "model = KNeighborsClassifier(n_neighbors=3)"
   ]
  },
  {
   "cell_type": "code",
   "execution_count": 23,
   "metadata": {
    "collapsed": false
   },
   "outputs": [],
   "source": [
    "model.fit(X_train_scaled, y_train)\n",
    "\n",
    "pickle.dump(model, open( \"model.pkl\", \"wb\" ) )"
   ]
  }
 ],
 "metadata": {
  "anaconda-cloud": {},
  "kernelspec": {
   "display_name": "Python [conda root]",
   "language": "python",
   "name": "conda-root-py"
  },
  "language_info": {
   "codemirror_mode": {
    "name": "ipython",
    "version": 2
   },
   "file_extension": ".py",
   "mimetype": "text/x-python",
   "name": "python",
   "nbconvert_exporter": "python",
   "pygments_lexer": "ipython2",
   "version": "2.7.12"
  }
 },
 "nbformat": 4,
 "nbformat_minor": 0
}
